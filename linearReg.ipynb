{
 "cells": [
  {
   "cell_type": "code",
   "execution_count": 1,
   "metadata": {},
   "outputs": [],
   "source": [
    "import pandas as pd\n",
    "\n",
    "import numpy as np"
   ]
  },
  {
   "cell_type": "code",
   "execution_count": 2,
   "metadata": {},
   "outputs": [],
   "source": [
    "df = pd.read_csv(\"/home/hr/Desktop/dmpa_proj/dataset/pre_processed_train.csv\")\n",
    "df.head()\n",
    "test_set = pd.read_csv(\"/home/hr/Desktop/dmpa_proj/dataset/pre_processed.csv\")\n",
    "#test_set.head()\n"
   ]
  },
  {
   "cell_type": "code",
   "execution_count": 8,
   "metadata": {},
   "outputs": [
    {
     "data": {
      "text/plain": [
       "((1460, 11), (1459, 10))"
      ]
     },
     "execution_count": 8,
     "metadata": {},
     "output_type": "execute_result"
    }
   ],
   "source": [
    "df.shape,test_set.shape"
   ]
  },
  {
   "cell_type": "code",
   "execution_count": 4,
   "metadata": {},
   "outputs": [
    {
     "name": "stdout",
     "output_type": "stream",
     "text": [
      "(1460, 10)\n"
     ]
    },
    {
     "data": {
      "text/html": [
       "<div>\n",
       "<style scoped>\n",
       "    .dataframe tbody tr th:only-of-type {\n",
       "        vertical-align: middle;\n",
       "    }\n",
       "\n",
       "    .dataframe tbody tr th {\n",
       "        vertical-align: top;\n",
       "    }\n",
       "\n",
       "    .dataframe thead th {\n",
       "        text-align: right;\n",
       "    }\n",
       "</style>\n",
       "<table border=\"1\" class=\"dataframe\">\n",
       "  <thead>\n",
       "    <tr style=\"text-align: right;\">\n",
       "      <th></th>\n",
       "      <th>pc_1</th>\n",
       "      <th>pc_2</th>\n",
       "      <th>pc_3</th>\n",
       "      <th>pc_4</th>\n",
       "      <th>pc_5</th>\n",
       "      <th>pc_6</th>\n",
       "      <th>pc_7</th>\n",
       "      <th>pc_8</th>\n",
       "      <th>pc_9</th>\n",
       "      <th>pc_10</th>\n",
       "    </tr>\n",
       "  </thead>\n",
       "  <tbody>\n",
       "    <tr>\n",
       "      <th>0</th>\n",
       "      <td>0.966496</td>\n",
       "      <td>0.336682</td>\n",
       "      <td>0.308891</td>\n",
       "      <td>0.375725</td>\n",
       "      <td>0.019041</td>\n",
       "      <td>0.000000</td>\n",
       "      <td>0.697256</td>\n",
       "      <td>0.570527</td>\n",
       "      <td>0.634610</td>\n",
       "      <td>0.266259</td>\n",
       "    </tr>\n",
       "    <tr>\n",
       "      <th>1</th>\n",
       "      <td>0.961104</td>\n",
       "      <td>0.333887</td>\n",
       "      <td>0.516843</td>\n",
       "      <td>0.502788</td>\n",
       "      <td>0.026576</td>\n",
       "      <td>0.017604</td>\n",
       "      <td>0.648386</td>\n",
       "      <td>0.492529</td>\n",
       "      <td>0.684871</td>\n",
       "      <td>0.197231</td>\n",
       "    </tr>\n",
       "    <tr>\n",
       "      <th>2</th>\n",
       "      <td>0.953409</td>\n",
       "      <td>0.343304</td>\n",
       "      <td>0.271078</td>\n",
       "      <td>0.456253</td>\n",
       "      <td>0.021555</td>\n",
       "      <td>0.008519</td>\n",
       "      <td>0.692287</td>\n",
       "      <td>0.583784</td>\n",
       "      <td>0.626268</td>\n",
       "      <td>0.236248</td>\n",
       "    </tr>\n",
       "    <tr>\n",
       "      <th>3</th>\n",
       "      <td>0.961379</td>\n",
       "      <td>0.329648</td>\n",
       "      <td>0.249016</td>\n",
       "      <td>0.514002</td>\n",
       "      <td>0.023434</td>\n",
       "      <td>0.017690</td>\n",
       "      <td>0.608905</td>\n",
       "      <td>0.601527</td>\n",
       "      <td>0.650973</td>\n",
       "      <td>0.150116</td>\n",
       "    </tr>\n",
       "    <tr>\n",
       "      <th>4</th>\n",
       "      <td>0.939275</td>\n",
       "      <td>0.396680</td>\n",
       "      <td>0.257823</td>\n",
       "      <td>0.424615</td>\n",
       "      <td>0.020931</td>\n",
       "      <td>0.005184</td>\n",
       "      <td>0.696622</td>\n",
       "      <td>0.688243</td>\n",
       "      <td>0.586187</td>\n",
       "      <td>0.261821</td>\n",
       "    </tr>\n",
       "  </tbody>\n",
       "</table>\n",
       "</div>"
      ],
      "text/plain": [
       "       pc_1      pc_2      pc_3      pc_4      pc_5      pc_6      pc_7  \\\n",
       "0  0.966496  0.336682  0.308891  0.375725  0.019041  0.000000  0.697256   \n",
       "1  0.961104  0.333887  0.516843  0.502788  0.026576  0.017604  0.648386   \n",
       "2  0.953409  0.343304  0.271078  0.456253  0.021555  0.008519  0.692287   \n",
       "3  0.961379  0.329648  0.249016  0.514002  0.023434  0.017690  0.608905   \n",
       "4  0.939275  0.396680  0.257823  0.424615  0.020931  0.005184  0.696622   \n",
       "\n",
       "       pc_8      pc_9     pc_10  \n",
       "0  0.570527  0.634610  0.266259  \n",
       "1  0.492529  0.684871  0.197231  \n",
       "2  0.583784  0.626268  0.236248  \n",
       "3  0.601527  0.650973  0.150116  \n",
       "4  0.688243  0.586187  0.261821  "
      ]
     },
     "execution_count": 4,
     "metadata": {},
     "output_type": "execute_result"
    }
   ],
   "source": [
    "def get_X(df):\n",
    "    df = df[df.columns[df.columns!='SalePrice']]\n",
    "    print df.shape\n",
    "    return df\n",
    "def get_Y(df):\n",
    "    return df[\"SalePrice\"]\n",
    "\n",
    "from sklearn import linear_model,ensemble\n",
    "reg = linear_model.ElasticNet(alpha=0.001, max_iter=100, l1_ratio=0.4)\n",
    "X_train = get_X(df)\n",
    "Y_train = get_Y(df)\n",
    "X_test = test_set\n",
    "\n",
    "X_test.head()\n",
    "X_train.head()"
   ]
  },
  {
   "cell_type": "code",
   "execution_count": 5,
   "metadata": {},
   "outputs": [
    {
     "data": {
      "text/plain": [
       "ElasticNet(alpha=0.001, copy_X=True, fit_intercept=True, l1_ratio=0.4,\n",
       "      max_iter=100, normalize=False, positive=False, precompute=False,\n",
       "      random_state=None, selection='cyclic', tol=0.0001, warm_start=False)"
      ]
     },
     "execution_count": 5,
     "metadata": {},
     "output_type": "execute_result"
    }
   ],
   "source": [
    "reg.fit(X_train,Y_train)"
   ]
  },
  {
   "cell_type": "code",
   "execution_count": 6,
   "metadata": {},
   "outputs": [],
   "source": [
    "ans = reg.predict(X_test)\n",
    "ans = pd.DataFrame(ans)"
   ]
  },
  {
   "cell_type": "code",
   "execution_count": 7,
   "metadata": {},
   "outputs": [],
   "source": [
    "with open(\"/home/hr/Desktop/dmpa_proj/dataset/sub2.csv\",\"w+\") as f:\n",
    "    f.write(\"Id,SalePrice\\n\")\n",
    "    for i in range(1459):\n",
    "        f.write(\"{0},{1}\\n\".format(i+1461,ans[0][i]))\n"
   ]
  },
  {
   "cell_type": "code",
   "execution_count": null,
   "metadata": {},
   "outputs": [],
   "source": []
  }
 ],
 "metadata": {
  "kernelspec": {
   "display_name": "Python 2",
   "language": "python",
   "name": "python2"
  },
  "language_info": {
   "codemirror_mode": {
    "name": "ipython",
    "version": 2
   },
   "file_extension": ".py",
   "mimetype": "text/x-python",
   "name": "python",
   "nbconvert_exporter": "python",
   "pygments_lexer": "ipython2",
   "version": "2.7.12"
  }
 },
 "nbformat": 4,
 "nbformat_minor": 2
}
